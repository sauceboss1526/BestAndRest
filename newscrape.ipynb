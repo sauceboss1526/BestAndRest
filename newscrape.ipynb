{
 "cells": [
  {
   "cell_type": "code",
   "execution_count": 3,
   "metadata": {},
   "outputs": [],
   "source": [
    "from BestAndRest.NHLscraper import BeautifulScrape as bes \n",
    "html = bes.scrape('https://www.hockey-reference.com/draft/')"
   ]
  },
  {
   "cell_type": "code",
   "execution_count": 4,
   "metadata": {},
   "outputs": [
    {
     "data": {
      "text/plain": [
       "\"\\nFirst Overall Selections, Year-by-Year Table\\n\\nDraft\\nTeam\\nFirst Pick\\nAmateur Team\\n2023 NHL Entry\\nChicago Blackhawks\\nConnor BedardRegina Pats  (WHL)2022 NHL Entry\\nMontreal Canadiens\\nJuraj SlafkovskyTPS (Finland)2021 NHL Entry\\nBuffalo Sabres\\nOwen PowerMichigan (Big Ten)2020 NHL Entry\\nNew York Rangers\\nAlexis LafreniereRimouski Oceanic (QMJHL)2019 NHL Entry\\nNew Jersey Devils\\nJack HughesUSA U-18 Development Team (USDP/USHL)2018 NHL Entry\\nBuffalo Sabres\\nRasmus DahlinFrolunda HC (Sweden)2017 NHL Entry\\nNew Jersey Devils\\nNico HischierHalifax Mooseheads (QMJHL)2016 NHL Entry\\nToronto Maple Leafs\\nAuston MatthewsZSC Lions (Swiss)2015 NHL Entry\\nEdmonton Oilers\\nConnor McDavidErie Otters (OHL)2014 NHL Entry\\nFlorida Panthers\\nAaron EkbladBarrie Colts (OHL)2013 NHL Entry\\nColorado Avalanche\\nNathan MacKinnonHalifax Mooseheads (QMJHL)2012 NHL Entry\\nEdmonton Oilers\\nNail YakupovSarnia Sting (OHL)2011 NHL Entry\\nEdmonton Oilers\\nRyan Nugent-HopkinsRed Deer Rebels (WHL)2010 NHL Entry\\nEdmonton Oilers\\nTaylor HallWindsor Spitfires (OHL)2009 NHL Entry\\nNew York Islanders\\nJohn TavaresLondon Knights (OHL)2008 NHL Entry\\nTampa Bay Lightning\\nSteven StamkosSarnia Sting (OHL)2007 NHL Entry\\nChicago Blackhawks\\nPatrick KaneLondon Knights (OHL)2006 NHL Entry\\nSt. Louis Blues\\nErik JohnsonUSA U-18 Development Team (USDP/NAHL)2005 NHL Entry\\nPittsburgh Penguins\\nSidney CrosbyRimouski Oceanic (QMJHL)2004 NHL Entry\\nWashington Capitals\\nAlex OvechkinDynamo Moskva (Russia)2003 NHL Entry\\nPittsburgh Penguins\\nMarc-Andre FleuryCape Breton Screaming Eagles (QMJHL)2002 NHL Entry\\nColumbus Blue Jackets\\nRick NashLondon Knights (OHL)2001 NHL Entry\\nAtlanta Thrashers\\nIlya KovalchukSpartak Moskva (Russia-2)2000 NHL Entry\\nNew York Islanders\\nRick DiPietroBoston University (H-East)1999 NHL Entry\\nAtlanta Thrashers\\nPatrik StefanLong Beach Ice Dogs (IHL)1998 NHL Entry\\nTampa Bay Lightning\\nVincent LecavalierRimouski Oceanic (QMJHL)1997 NHL Entry\\nBoston Bruins\\nJoe ThorntonSoo Greyhounds (OHL)1996 NHL Entry\\nOttawa Senators\\nChris PhillipsPrince Albert Raiders (WHL)1995 NHL Entry\\nOttawa Senators\\nBryan BerardDetroit Jr. Red Wings (OHL)1994 NHL Entry\\nFlorida Panthers\\nEd JovanovskiWindsor Spitfires (OHL)1993 NHL Entry\\nOttawa Senators\\nAlexandre DaigleVictoriaville Tigres (QMJHL)1992 NHL Entry\\nTampa Bay Lightning\\nRoman HamrlikAC Ziln (Czechoslovakia)1991 NHL Entry\\nQuebec Nordiques\\nEric LindrosOshawa Generals (OHL)1990 NHL Entry\\nQuebec Nordiques\\nOwen NolanCornwall Royals (OHL)1989 NHL Entry\\nQuebec Nordiques\\nMats SundinNacka HK (Sweden-2)1988 NHL Entry\\nMinnesota North Stars\\nMike ModanoPrince Albert Raiders (WHL)1987 NHL Entry\\nBuffalo Sabres\\nPierre TurgeonGranby Bisons (QMJHL)1986 NHL Entry\\nDetroit Red Wings\\nJoe MurphyMichigan State (CCHA)1985 NHL Entry\\nToronto Maple Leafs\\nWendel ClarkSaskatoon Blades (WHL)1984 NHL Entry\\nPittsburgh Penguins\\nMario LemieuxLaval Voisins (QMJHL)1983 NHL Entry\\nMinnesota North Stars\\nBrian LawtonMount St. Charles Academy (High-RI)1982 NHL Entry\\nBoston Bruins\\nGord KluzakBillings Bighorns (WHL)1981 NHL Entry\\nWinnipeg Jets\\nDale HawerchukCornwall Royals (QMJHL)1980 NHL Entry\\nMontreal Canadiens\\nDoug WickenheiserRegina Pats (WHL)1979 NHL Entry\\nColorado Rockies\\nRob RamageBirmingham Bulls (WHA)1978 NHL Amateur\\nMinnesota North Stars\\nBobby SmithOttawa 67's (OMJHL)1977 NHL Amateur\\nDetroit Red Wings\\nDale McCourtSt. Catharines Fincups (OMJHL)1976 NHL Amateur\\nWashington Capitals\\nRick GreenLondon Knights (OMJHL)1975 NHL Amateur\\nPhiladelphia Flyers\\nMel BridgmanVictoria Cougars (WCHL)1974 NHL Amateur\\nWashington Capitals\\nGreg JolyRegina Pats (WCHL)1973 NHL Amateur\\nNew York Islanders\\nDenis PotvinOttawa 67's (OHA-Jr.)1972 NHL Amateur\\nNew York Islanders\\nBilly HarrisToronto Marlboros (OHA-Jr.)1971 NHL Amateur\\nMontreal Canadiens\\nGuy LafleurQuebec Remparts (QMJHL)1970 NHL Amateur\\nBuffalo Sabres\\nGilbert PerreaultMontreal Jr. Canadiens (OHA-Jr.)1969 NHL Amateur\\nMontreal Canadiens\\nRejean HouleMontreal Jr. Canadiens (OHA-Jr.)1968 NHL Amateur\\nMontreal Canadiens\\nMichel PlasseDrummondville (QJAHL)1967 NHL Amateur\\nLos Angeles Kings\\nRick PagnuttiGarson (NOJHL)1966 NHL Amateur\\nBoston Bruins\\nBarry GibbsEstevan (SJHL)1965 NHL Amateur\\nNew York Rangers\\nAndre VeilleuxMontreal Rangers Jr. B ()1964 NHL Amateur\\nDetroit Red Wings\\nClaude GauthierRosemount (QMJHL)1963 NHL Amateur\\nMontreal Canadiens\\nGarry MonahanSt. Michael's Majors ()\\n\""
      ]
     },
     "execution_count": 4,
     "metadata": {},
     "output_type": "execute_result"
    }
   ],
   "source": [
    "html.scrapechel()"
   ]
  },
  {
   "cell_type": "code",
   "execution_count": null,
   "metadata": {},
   "outputs": [],
   "source": []
  }
 ],
 "metadata": {
  "kernelspec": {
   "display_name": "Python 3",
   "language": "python",
   "name": "python3"
  },
  "language_info": {
   "codemirror_mode": {
    "name": "ipython",
    "version": 3
   },
   "file_extension": ".py",
   "mimetype": "text/x-python",
   "name": "python",
   "nbconvert_exporter": "python",
   "pygments_lexer": "ipython3",
   "version": "3.10.8"
  }
 },
 "nbformat": 4,
 "nbformat_minor": 2
}
