{
 "cells": [
  {
   "cell_type": "markdown",
   "metadata": {},
   "source": [
    "                                                                Best and the Rest"
   ]
  },
  {
   "cell_type": "markdown",
   "metadata": {},
   "source": [
    "Ben Besthof\n",
    "DAV5400\n",
    "11/23/23"
   ]
  },
  {
   "cell_type": "markdown",
   "metadata": {},
   "source": [
    "Discovering methods of obtaining data on the open internet. API connectivity, web scraping, and XML parsing are fundamental ways of affordably collecting data online. "
   ]
  },
  {
   "cell_type": "markdown",
   "metadata": {},
   "source": [
    "rookiesdata -->  List of rookies amd their respective draft information.\n",
    "\n",
    "Draft Information includes:\n",
    "\n",
    "-draft: Year player was selected in NHL draft. Datatype: integer.\n",
    "\n",
    "-player: Name of selected player. Datatype: string object.\n",
    "                    \n",
    "-team: The team that selected the player in NHL draft and the location in which franchiose is based. Datatype: string object.\n",
    "                    \n",
    "-amateur_league: League in which player competed in before NHL. Datatype: string object. Group the count of first overall picks by Amateur League to see which leagues have developed the most first overall picks. Within the top Amateur leagues we can look for the teams that produced the most NHL draft first overall picks\n",
    "                \n",
    "                \n",
    "-amatuer_team: Name of the team on which the player competed on in Amateur League. Datatype: string object. Find which amateur teams have produced the most first overall picks.                 \n",
    "\n",
    "                    "
   ]
  },
  {
   "cell_type": "markdown",
   "metadata": {},
   "source": [
    "Connecting to a public API required only two lines of code to land data into a Pandas DataFrame. User is abloe to obtain the dataset directly in csv format with an addition of a line of code. Access is instant when datasets are public and free to view. Web scraping is made easy by pandas when searching for tabular data. However, BeautifulSoup4 has its own unique capabilities and assists in scraping data from static websites. Building the BS4 scraper required more code than Pandas and connecting to the API and it took the longest to learn how to build. XML parsing is very structured and took long to learn... \n",
    "Connecting to API is the method of choice at acquiring data through the open internet."
   ]
  },
  {
   "cell_type": "code",
   "execution_count": null,
   "metadata": {},
   "outputs": [],
   "source": []
  }
 ],
 "metadata": {
  "language_info": {
   "name": "python"
  }
 },
 "nbformat": 4,
 "nbformat_minor": 2
}
